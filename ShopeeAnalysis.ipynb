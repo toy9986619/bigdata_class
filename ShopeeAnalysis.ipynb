{
 "cells": [
  {
   "cell_type": "markdown",
   "metadata": {},
   "source": [
    "# 前置作業"
   ]
  },
  {
   "cell_type": "code",
   "execution_count": 1,
   "metadata": {},
   "outputs": [],
   "source": [
    "import pyspark\n",
    "from pyspark.sql import SparkSession\n",
    "from operator import add\n",
    "sc = pyspark.SparkContext('local[*]')\n",
    "spark = SparkSession.builder.appName(\"csvTest\").getOrCreate()"
   ]
  },
  {
   "cell_type": "code",
   "execution_count": 2,
   "metadata": {},
   "outputs": [],
   "source": [
    "global Path\n",
    "if sc.master[0:5] == \"local\":\n",
    "    Path = \"file:/home/jovyan/work/csvData/\"\n",
    "else:\n",
    "    Path = \"hdfs:/user/zeppelin/csvData/\""
   ]
  },
  {
   "cell_type": "code",
   "execution_count": 3,
   "metadata": {},
   "outputs": [],
   "source": [
    "from pyspark.sql.types import StructType, StructField, IntegerType, StringType, DateType, FloatType\n",
    "import time\n",
    "import math\n",
    "import datetime\n",
    "from pyspark.sql.functions import monotonically_increasing_id "
   ]
  },
  {
   "cell_type": "markdown",
   "metadata": {},
   "source": [
    "# 建立product DataFrame"
   ]
  },
  {
   "cell_type": "code",
   "execution_count": 4,
   "metadata": {},
   "outputs": [],
   "source": [
    "productSchema = StructType([\n",
    "    StructField(\"product_id\", StringType(), True),\n",
    "    StructField(\"category\", StringType(), True),\n",
    "    StructField(\"name\", StringType(), True),\n",
    "    StructField(\"price\", IntegerType(), True),\n",
    "    StructField(\"sale\", IntegerType(), True),\n",
    "    StructField(\"score\", FloatType(), True),\n",
    "    StructField(\"url\", StringType(), True),\n",
    "    StructField(\"imgurl\", StringType(), True),\n",
    "    StructField(\"update_time\", DateType(), True)])\n",
    "\n",
    "productDf = spark.read.csv(Path+\"3c_product.csv\",header=False,schema=productSchema)"
   ]
  },
  {
   "cell_type": "code",
   "execution_count": 5,
   "metadata": {},
   "outputs": [
    {
     "name": "stdout",
     "output_type": "stream",
     "text": [
      "+----------+--------+--------------------+-----+----+-----+-----------+\n",
      "|product_id|category|                name|price|sale|score|update_time|\n",
      "+----------+--------+--------------------+-----+----+-----+-----------+\n",
      "| 100000238| Apple空機|迪士尼手機殼愛麗絲維尼史迪奇電鍍保...|  299|  -1| -1.0| 2017-12-23|\n",
      "| 100000238| Apple空機|迪士尼手機殼愛麗絲維尼史迪奇電鍍保...|  299|  -1| -1.0| 2017-12-24|\n",
      "| 100000238| Apple空機|迪士尼手機殼愛麗絲維尼史迪奇電鍍保...|  299|  -1| -1.0| 2017-12-25|\n",
      "| 100000238| Apple空機|迪士尼手機殼愛麗絲維尼史迪奇電鍍保...|  299|  -1| -1.0| 2017-12-26|\n",
      "| 100000411| Apple空機|迪士尼手機殼愛麗絲維尼史迪奇電鍍保...|  299|  -1|  5.0| 2017-12-23|\n",
      "+----------+--------+--------------------+-----+----+-----+-----------+\n",
      "only showing top 5 rows\n",
      "\n"
     ]
    }
   ],
   "source": [
    "productDf.select(\"product_id\", \"category\", \"name\", \"price\", \"sale\", \"score\", \"update_time\").show(5)"
   ]
  },
  {
   "cell_type": "code",
   "execution_count": 6,
   "metadata": {
    "scrolled": true
   },
   "outputs": [
    {
     "name": "stdout",
     "output_type": "stream",
     "text": [
      "+----------+--------------------+\n",
      "|product_id|                name|\n",
      "+----------+--------------------+\n",
      "| 100050400|JayBirdX2BLUEBUDS...|\n",
      "| 100068041|樂視1手機殼letv樂1手機套樂視...|\n",
      "| 100125088|Samsung三星Note5手機殼...|\n",
      "| 100507876|Disney原廠全新MicroUS...|\n",
      "| 100715572|美芙MeFOTOMK10藍牙遙控自...|\n",
      "+----------+--------------------+\n",
      "only showing top 5 rows\n",
      "\n"
     ]
    }
   ],
   "source": [
    "productNameDf = productDf.select(\"product_id\", \"name\").distinct()\n",
    "productNameDf.show(5)"
   ]
  },
  {
   "cell_type": "code",
   "execution_count": 7,
   "metadata": {},
   "outputs": [
    {
     "data": {
      "text/plain": [
       "53515"
      ]
     },
     "execution_count": 7,
     "metadata": {},
     "output_type": "execute_result"
    }
   ],
   "source": [
    "productDf.rdd.count()"
   ]
  },
  {
   "cell_type": "code",
   "execution_count": 8,
   "metadata": {},
   "outputs": [
    {
     "data": {
      "text/plain": [
       "45783"
      ]
     },
     "execution_count": 8,
     "metadata": {},
     "output_type": "execute_result"
    }
   ],
   "source": [
    "productNameDf.rdd.distinct().count()"
   ]
  },
  {
   "cell_type": "code",
   "execution_count": 9,
   "metadata": {},
   "outputs": [],
   "source": [
    "categoryDf = productDf.select(\"category\")"
   ]
  },
  {
   "cell_type": "code",
   "execution_count": 10,
   "metadata": {
    "scrolled": true
   },
   "outputs": [
    {
     "name": "stdout",
     "output_type": "stream",
     "text": [
      "+-----------+-----+\n",
      "|   category|count|\n",
      "+-----------+-----+\n",
      "| Android保護殼| 7106|\n",
      "| Android保護貼| 6937|\n",
      "|     手機周邊配件| 5398|\n",
      "|  iPhone保護殼| 5084|\n",
      "|       耳機喇叭| 4168|\n",
      "| iPhone充電傳輸| 3479|\n",
      "|       行動電源| 3391|\n",
      "|  Android空機| 3345|\n",
      "|  iPhone保護貼| 3022|\n",
      "|Android充電傳輸| 2966|\n",
      "+-----------+-----+\n",
      "only showing top 10 rows\n",
      "\n"
     ]
    }
   ],
   "source": [
    "categoryDf.groupBy(\"category\").count().orderBy(\"count\", ascending=0).show(10)"
   ]
  },
  {
   "cell_type": "code",
   "execution_count": 11,
   "metadata": {
    "scrolled": true
   },
   "outputs": [
    {
     "name": "stdout",
     "output_type": "stream",
     "text": [
      "+--------------------+\n",
      "|                name|\n",
      "+--------------------+\n",
      "|小米5小米6小米5sPlus小米A...|\n",
      "|公司貨BagrunAsusZenF...|\n",
      "|手機殼送掛繩動漫你的名字三星S5S...|\n",
      "|MIBO超級薄TPU軟殻SONYZ...|\n",
      "|全館299免運現貨三星S6edge...|\n",
      "+--------------------+\n",
      "only showing top 5 rows\n",
      "\n"
     ]
    }
   ],
   "source": [
    "testRDD = productDf.filter('category = \"Android保護殼\"').select(\"name\").distinct()\n",
    "testRDD.show(5)"
   ]
  },
  {
   "cell_type": "code",
   "execution_count": 12,
   "metadata": {},
   "outputs": [
    {
     "data": {
      "text/plain": [
       "6287"
      ]
     },
     "execution_count": 12,
     "metadata": {},
     "output_type": "execute_result"
    }
   ],
   "source": [
    "testRDD.count()"
   ]
  },
  {
   "cell_type": "code",
   "execution_count": 13,
   "metadata": {},
   "outputs": [
    {
     "data": {
      "text/plain": [
       "['Apple空機', 'Android保護殼', '手機周邊配件', '電話、儲值卡', 'iPhone保護貼']"
      ]
     },
     "execution_count": 13,
     "metadata": {},
     "output_type": "execute_result"
    }
   ],
   "source": [
    "categoryRDD = productDf.select(\"category\").rdd.map(lambda x: x[0]).distinct()\n",
    "categoryRDD.take(5) "
   ]
  },
  {
   "cell_type": "markdown",
   "metadata": {},
   "source": [
    "# 建立category RDD"
   ]
  },
  {
   "cell_type": "code",
   "execution_count": 14,
   "metadata": {
    "scrolled": false
   },
   "outputs": [
    {
     "data": {
      "text/plain": [
       "['Apple空機',\n",
       " 'Android保護殼',\n",
       " '手機周邊配件',\n",
       " '電話、儲值卡',\n",
       " 'iPhone保護貼',\n",
       " '平板電腦',\n",
       " '手拿包',\n",
       " '行動電源',\n",
       " 'Android空機',\n",
       " '耳機喇叭',\n",
       " 'Android充電傳輸',\n",
       " 'Android保護貼',\n",
       " '其他',\n",
       " 'iPhone保護殼',\n",
       " 'iPhone充電傳輸',\n",
       " '其他廠牌手機',\n",
       " '泳衣、比基尼',\n",
       " '居家裝飾']"
      ]
     },
     "execution_count": 14,
     "metadata": {},
     "output_type": "execute_result"
    }
   ],
   "source": [
    "categoryRDD.collect()"
   ]
  },
  {
   "cell_type": "markdown",
   "metadata": {},
   "source": [
    "# 建立product RDD 供後續使用"
   ]
  },
  {
   "cell_type": "code",
   "execution_count": 15,
   "metadata": {
    "scrolled": true
   },
   "outputs": [
    {
     "data": {
      "text/plain": [
       "[['Apple空機',\n",
       "  '迪士尼手機殼愛麗絲維尼史迪奇電鍍保護殼正版米奇小美人魚Iphone7iphone7Plus',\n",
       "  299,\n",
       "  -1,\n",
       "  '100000238'],\n",
       " ['Apple空機',\n",
       "  '迪士尼手機殼愛麗絲維尼史迪奇電鍍保護殼正版米奇小美人魚Iphone7iphone7Plus',\n",
       "  299,\n",
       "  -1,\n",
       "  '100000238'],\n",
       " ['Apple空機',\n",
       "  '迪士尼手機殼愛麗絲維尼史迪奇電鍍保護殼正版米奇小美人魚Iphone7iphone7Plus',\n",
       "  299,\n",
       "  -1,\n",
       "  '100000238'],\n",
       " ['Apple空機',\n",
       "  '迪士尼手機殼愛麗絲維尼史迪奇電鍍保護殼正版米奇小美人魚Iphone7iphone7Plus',\n",
       "  299,\n",
       "  -1,\n",
       "  '100000238'],\n",
       " ['Apple空機',\n",
       "  '迪士尼手機殼愛麗絲維尼史迪奇電鍍保護殼正版米奇小美人魚Iphone7iphone7Plus',\n",
       "  299,\n",
       "  -1,\n",
       "  '100000411']]"
      ]
     },
     "execution_count": 15,
     "metadata": {},
     "output_type": "execute_result"
    }
   ],
   "source": [
    "newProductRDD = productDf.select(\"category\", \"name\", \"price\", \"sale\", \"product_id\").rdd.map(lambda x: [x[0], x[1], x[2], x[3], x[4]])\n",
    "newProductRDD.take(5)"
   ]
  },
  {
   "cell_type": "markdown",
   "metadata": {},
   "source": [
    "# 計算category 的總銷售額"
   ]
  },
  {
   "cell_type": "code",
   "execution_count": 16,
   "metadata": {},
   "outputs": [],
   "source": [
    "def countCategorySalePrice():\n",
    "    \n",
    "    BaseRDD = newProductRDD.filter(lambda x: x[3]<3000)\n",
    "    CategoryRDD = newProductRDD.map(lambda x: (x[1], x[0])).distinct()\n",
    "    PriceRDD = BaseRDD.map(lambda x:(x[1], x[2])).reduceByKey(max)\n",
    "    SaleRDD = BaseRDD.map(lambda x:(x[1], x[3])).filter(lambda x: x[1] > 0).reduceByKey(max)\n",
    "    JoinRDD = SaleRDD.join(PriceRDD).map(lambda x: (x[0], x[1][0] * x[1][1])).reduceByKey(add)\n",
    "    resRDD = JoinRDD.join(CategoryRDD).map(lambda x: (x[1][1], x[1][0])).reduceByKey(add)\n",
    "    \n",
    "    return resRDD\n"
   ]
  },
  {
   "cell_type": "code",
   "execution_count": 17,
   "metadata": {},
   "outputs": [
    {
     "name": "stdout",
     "output_type": "stream",
     "text": [
      "use time: 0.183 seconds\n"
     ]
    }
   ],
   "source": [
    "#newProductRDD.filter(lambda x: x[0] == category).filter(lambda x: x[3]<200)\n",
    "t0 = time.time()\n",
    "timeString = time.strftime(\"%Y年%m月%d日\")\n",
    "resRDD = countCategorySalePrice()\n",
    "#resRDD.saveAsTextFile(\"outputData/\"+timeString+\"_output/\")\n",
    "    #for k,v in resRDD.take(3):\n",
    "    #    print(k, v)\n",
    "\n",
    "tt = time.time()-t0\n",
    "print(\"use time: {} seconds\".format(round(tt,3)))"
   ]
  },
  {
   "cell_type": "markdown",
   "metadata": {},
   "source": [
    "# category的總銷售量排行榜"
   ]
  },
  {
   "cell_type": "code",
   "execution_count": 18,
   "metadata": {},
   "outputs": [
    {
     "data": {
      "text/plain": [
       "[('Apple空機', 613544), ('電話、儲值卡', 1562418), ('iPhone保護殼', 1312996)]"
      ]
     },
     "execution_count": 18,
     "metadata": {},
     "output_type": "execute_result"
    }
   ],
   "source": [
    "resRDD.take(3)"
   ]
  },
  {
   "cell_type": "code",
   "execution_count": 19,
   "metadata": {
    "scrolled": true
   },
   "outputs": [
    {
     "name": "stdout",
     "output_type": "stream",
     "text": [
      "+---------+----------+\n",
      "| category|salesValue|\n",
      "+---------+----------+\n",
      "|  Apple空機|    613544|\n",
      "|   電話、儲值卡|   1562418|\n",
      "|iPhone保護殼|   1312996|\n",
      "+---------+----------+\n",
      "only showing top 3 rows\n",
      "\n"
     ]
    }
   ],
   "source": [
    "saleChartDf = spark.createDataFrame(resRDD, [\"category\", \"salesValue\"])\n",
    "saleChartDf.show(3)"
   ]
  },
  {
   "cell_type": "code",
   "execution_count": 20,
   "metadata": {},
   "outputs": [
    {
     "name": "stdout",
     "output_type": "stream",
     "text": [
      "+----------+----------+\n",
      "|  category|salesValue|\n",
      "+----------+----------+\n",
      "|      行動電源|   2043538|\n",
      "|      耳機喇叭|   1949447|\n",
      "|iPhone充電傳輸|   1753300|\n",
      "+----------+----------+\n",
      "only showing top 3 rows\n",
      "\n"
     ]
    }
   ],
   "source": [
    "saleChartDf = saleChartDf.orderBy(saleChartDf.salesValue.desc())\n",
    "saleChartDf.show(3)"
   ]
  },
  {
   "cell_type": "code",
   "execution_count": 21,
   "metadata": {},
   "outputs": [
    {
     "data": {
      "text/plain": [
       "[Row(category='行動電源', salesValue=2043538),\n",
       " Row(category='耳機喇叭', salesValue=1949447),\n",
       " Row(category='iPhone充電傳輸', salesValue=1753300),\n",
       " Row(category='電話、儲值卡', salesValue=1562418),\n",
       " Row(category='iPhone保護殼', salesValue=1312996),\n",
       " Row(category='iPhone保護貼', salesValue=1243834),\n",
       " Row(category='手機周邊配件', salesValue=1232840),\n",
       " Row(category='Android空機', salesValue=1188542),\n",
       " Row(category='其他', salesValue=1051228),\n",
       " Row(category='Android保護貼', salesValue=644555),\n",
       " Row(category='Apple空機', salesValue=613544),\n",
       " Row(category='Android保護殼', salesValue=548670),\n",
       " Row(category='Android充電傳輸', salesValue=493610),\n",
       " Row(category='平板電腦', salesValue=446374),\n",
       " Row(category='其他廠牌手機', salesValue=101866)]"
      ]
     },
     "execution_count": 21,
     "metadata": {},
     "output_type": "execute_result"
    }
   ],
   "source": [
    "saleChartDf.rdd.collect()"
   ]
  },
  {
   "cell_type": "markdown",
   "metadata": {},
   "source": [
    "### 轉pandas to csv"
   ]
  },
  {
   "cell_type": "code",
   "execution_count": 22,
   "metadata": {},
   "outputs": [
    {
     "data": {
      "text/html": [
       "<div>\n",
       "<table border=\"1\" class=\"dataframe\">\n",
       "  <thead>\n",
       "    <tr style=\"text-align: right;\">\n",
       "      <th></th>\n",
       "      <th>category</th>\n",
       "      <th>salesValue</th>\n",
       "    </tr>\n",
       "    <tr>\n",
       "      <th>rank</th>\n",
       "      <th></th>\n",
       "      <th></th>\n",
       "    </tr>\n",
       "  </thead>\n",
       "  <tbody>\n",
       "    <tr>\n",
       "      <th>1</th>\n",
       "      <td>行動電源</td>\n",
       "      <td>2043538</td>\n",
       "    </tr>\n",
       "    <tr>\n",
       "      <th>2</th>\n",
       "      <td>耳機喇叭</td>\n",
       "      <td>1949447</td>\n",
       "    </tr>\n",
       "    <tr>\n",
       "      <th>3</th>\n",
       "      <td>iPhone充電傳輸</td>\n",
       "      <td>1753300</td>\n",
       "    </tr>\n",
       "    <tr>\n",
       "      <th>4</th>\n",
       "      <td>電話、儲值卡</td>\n",
       "      <td>1562418</td>\n",
       "    </tr>\n",
       "    <tr>\n",
       "      <th>5</th>\n",
       "      <td>iPhone保護殼</td>\n",
       "      <td>1312996</td>\n",
       "    </tr>\n",
       "    <tr>\n",
       "      <th>6</th>\n",
       "      <td>iPhone保護貼</td>\n",
       "      <td>1243834</td>\n",
       "    </tr>\n",
       "    <tr>\n",
       "      <th>7</th>\n",
       "      <td>手機周邊配件</td>\n",
       "      <td>1232840</td>\n",
       "    </tr>\n",
       "    <tr>\n",
       "      <th>8</th>\n",
       "      <td>Android空機</td>\n",
       "      <td>1188542</td>\n",
       "    </tr>\n",
       "    <tr>\n",
       "      <th>9</th>\n",
       "      <td>其他</td>\n",
       "      <td>1051228</td>\n",
       "    </tr>\n",
       "    <tr>\n",
       "      <th>10</th>\n",
       "      <td>Android保護貼</td>\n",
       "      <td>644555</td>\n",
       "    </tr>\n",
       "    <tr>\n",
       "      <th>11</th>\n",
       "      <td>Apple空機</td>\n",
       "      <td>613544</td>\n",
       "    </tr>\n",
       "    <tr>\n",
       "      <th>12</th>\n",
       "      <td>Android保護殼</td>\n",
       "      <td>548670</td>\n",
       "    </tr>\n",
       "    <tr>\n",
       "      <th>13</th>\n",
       "      <td>Android充電傳輸</td>\n",
       "      <td>493610</td>\n",
       "    </tr>\n",
       "    <tr>\n",
       "      <th>14</th>\n",
       "      <td>平板電腦</td>\n",
       "      <td>446374</td>\n",
       "    </tr>\n",
       "    <tr>\n",
       "      <th>15</th>\n",
       "      <td>其他廠牌手機</td>\n",
       "      <td>101866</td>\n",
       "    </tr>\n",
       "  </tbody>\n",
       "</table>\n",
       "</div>"
      ],
      "text/plain": [
       "         category  salesValue\n",
       "rank                         \n",
       "1            行動電源     2043538\n",
       "2            耳機喇叭     1949447\n",
       "3      iPhone充電傳輸     1753300\n",
       "4          電話、儲值卡     1562418\n",
       "5       iPhone保護殼     1312996\n",
       "6       iPhone保護貼     1243834\n",
       "7          手機周邊配件     1232840\n",
       "8       Android空機     1188542\n",
       "9              其他     1051228\n",
       "10     Android保護貼      644555\n",
       "11        Apple空機      613544\n",
       "12     Android保護殼      548670\n",
       "13    Android充電傳輸      493610\n",
       "14           平板電腦      446374\n",
       "15         其他廠牌手機      101866"
      ]
     },
     "execution_count": 22,
     "metadata": {},
     "output_type": "execute_result"
    }
   ],
   "source": [
    "import pandas as pd\n",
    "saleChartDf_pddf = saleChartDf.toPandas()\n",
    "saleChartDf_pddf.index+=1\n",
    "saleChartDf_pddf.index.name=\"rank\"\n",
    "saleChartDf_pddf"
   ]
  },
  {
   "cell_type": "code",
   "execution_count": 23,
   "metadata": {},
   "outputs": [],
   "source": [
    "saleChartDf_pddf.to_csv('saleChart.csv', encoding='utf-8')"
   ]
  },
  {
   "cell_type": "code",
   "execution_count": 24,
   "metadata": {
    "scrolled": false
   },
   "outputs": [
    {
     "name": "stdout",
     "output_type": "stream",
     "text": [
      "rank,category,salesValue\r\n",
      "1,行動電源,2043538\r\n",
      "2,耳機喇叭,1949447\r\n",
      "3,iPhone充電傳輸,1753300\r\n",
      "4,電話、儲值卡,1562418\r\n",
      "5,iPhone保護殼,1312996\r\n",
      "6,iPhone保護貼,1243834\r\n",
      "7,手機周邊配件,1232840\r\n",
      "8,Android空機,1188542\r\n",
      "9,其他,1051228\r\n",
      "10,Android保護貼,644555\r\n",
      "11,Apple空機,613544\r\n",
      "12,Android保護殼,548670\r\n",
      "13,Android充電傳輸,493610\r\n",
      "14,平板電腦,446374\r\n",
      "15,其他廠牌手機,101866\r\n"
     ]
    }
   ],
   "source": [
    "!cat saleChart.csv"
   ]
  },
  {
   "cell_type": "markdown",
   "metadata": {},
   "source": [
    "# 各個category的商品銷售額排行榜"
   ]
  },
  {
   "cell_type": "markdown",
   "metadata": {},
   "source": [
    "# 計算單一category的各項商品銷售額"
   ]
  },
  {
   "cell_type": "code",
   "execution_count": 25,
   "metadata": {},
   "outputs": [],
   "source": [
    "def countSalePrice(category):\n",
    "    baseRDD = newProductRDD.filter(lambda x: x[0] == category)\n",
    "    productIdRDD = baseRDD.map(lambda x: (x[1],x[4])).distinct()\n",
    "    priceRDD = baseRDD.map(lambda x:(x[1], x[2])).reduceByKey(max)\n",
    "    saleRDD = baseRDD.map(lambda x:(x[1], x[3])).filter(lambda x: x[1] > 0).reduceByKey(max)\n",
    "    joinRDD = saleRDD.join(priceRDD).join(productIdRDD)\n",
    "    #joinRDD = saleRDD.join(priceRDD)\n",
    "    res = joinRDD.map(lambda x: (category, x[1][1], x[0], x[1][0][0], x[1][0][1], x[1][0][0] * x[1][0][1])).takeOrdered(10, key=lambda x: -1*int(x[5]))\n",
    "    #res = joinRDD.map(lambda x: (category, x[0], x[1][0], x[1][1], x[1][0] * x[1][1])).takeOrdered(10, key=lambda x: -1*int(x[4]))\n",
    "    \n",
    "    return res\n",
    "    "
   ]
  },
  {
   "cell_type": "code",
   "execution_count": 26,
   "metadata": {
    "scrolled": true
   },
   "outputs": [
    {
     "name": "stdout",
     "output_type": "stream",
     "text": [
      "use time: 33.34 seconds\n"
     ]
    }
   ],
   "source": [
    "t0 = time.time()\n",
    "\n",
    "for category in categoryRDD.collect():\n",
    "    CSP_RDD = countSalePrice(category)\n",
    "    try: \n",
    "        CSP_DF = spark.createDataFrame(CSP_RDD, [\"category\", \"product_id\", \"productName\", \"price\", \"sales\", \"salesValue\"])\n",
    "        #CSP_DF = spark.createDataFrame(CSP_RDD, [\"category\", \"productName\", \"price\", \"sales\", \"salesValue\"])\n",
    "        #CSP_DF = CSP_DF.orderBy(CSP_DF.salesValue.desc())\n",
    "        CSP_PDDF = CSP_DF.toPandas()\n",
    "        CSP_PDDF.index+=1\n",
    "        CSP_PDDF.index.name=\"rank\"\n",
    "        CSP_PDDF.to_csv(\"ProductSaleChart_Output/\"+category+'SaleChart.csv', encoding='utf-8')\n",
    "    except ValueError:\n",
    "        continue\n",
    "    \n",
    "    \n",
    "tt = time.time()-t0\n",
    "print(\"use time: {} seconds\".format(round(tt,3)))"
   ]
  },
  {
   "cell_type": "code",
   "execution_count": 27,
   "metadata": {},
   "outputs": [
    {
     "name": "stdout",
     "output_type": "stream",
     "text": [
      "rank,category,product_id,productName,price,sales,salesValue\r\n",
      "1,Android保護殼,187108809,有影摔給你看OPPO冰晶盾4角增壓防摔R9R9SF1SA39保護殼送贈品E13,203,99,20097\r\n",
      "2,Android保護殼,385708657,送鋼化膜USAMSOPPOR9sR9sPlusR11R11S矽膠防摔手機殼,99,199,19701\r\n",
      "3,Android保護殼,26556512,實拍測試摔給你看冰晶盾ASUSZenfone4SelfieZE552KL手機殼D34U1,172,99,17028\r\n",
      "4,Android保護殼,262969112,來圖就能客製化訂製客製手機殼蘋果三星OPPOHTC華碩SONYLGOPPO小米富可視美圖,99,169,16731\r\n",
      "5,Android保護殼,387523295,送鋼化膜JOYROOMOPPOR9R9PR9sR9sPR11R11S磨砂手機殼保護殼,75,199,14925\r\n",
      "6,Android保護殼,379551049,男士黑色手機殼HTCEYEE8E9E9M7M8M9M9M10K10530U11A37F1,71,160,11360\r\n",
      "7,Android保護殼,215981653,LLM來圖客制化空壓殼軟殼oppoA77a35a39F1R9SPLUSR7r7plusR11手機殼,34,300,10200\r\n",
      "8,Android保護殼,187208682,有影摔給你看ASUS冰晶盾4角防摔ZF35552送贈品ZE552KLZE520KL手機殼E13,79,99,7821\r\n",
      "9,Android保護殼,385789645,卡娜赫拉點點各式手機殼OPPOR11sA77A57A39F1sR7R7SR9R9R11,38,179,6802\r\n",
      "10,Android保護殼,385745444,卡娜赫拉P助支持各式手機殼iphone三星HTCASUSsonyLGOPPO小米華為Nokia,33,182,6006\r\n"
     ]
    }
   ],
   "source": [
    "!cat ProductSaleChart_Output/Android保護殼SaleChart.csv"
   ]
  },
  {
   "cell_type": "markdown",
   "metadata": {},
   "source": [
    "# 計算分類銷售頻率"
   ]
  },
  {
   "cell_type": "code",
   "execution_count": 29,
   "metadata": {
    "scrolled": true
   },
   "outputs": [
    {
     "name": "stdout",
     "output_type": "stream",
     "text": [
      "+-------+----------+----+-----+------+-----------+\n",
      "|item_id|product_id|name|price| stock|update_time|\n",
      "+-------+----------+----+-----+------+-----------+\n",
      "|      0| 100003669|  黑色|  450|944799| 2017-12-24|\n",
      "|      0| 100003669|  黑色|  450|944799| 2017-12-25|\n",
      "|      0| 100003669|  黑色|  450|944799| 2017-12-26|\n",
      "|      0| 100003669|  黑色|  450|944799| 2017-12-27|\n",
      "|      0| 100003669|  黑色|  450|944799| 2017-12-28|\n",
      "+-------+----------+----+-----+------+-----------+\n",
      "only showing top 5 rows\n",
      "\n"
     ]
    },
    {
     "data": {
      "text/plain": [
       "<bound method DataFrame.join of DataFrame[item_id: int, product_id: string, name: string, price: int, stock: int, update_time: date]>"
      ]
     },
     "execution_count": 29,
     "metadata": {},
     "output_type": "execute_result"
    }
   ],
   "source": [
    "itemSchema = StructType([\n",
    "    StructField(\"item_id\", IntegerType(), True),\n",
    "    StructField(\"product_id\", StringType(), True),\n",
    "    StructField(\"name\", StringType(), True),\n",
    "    StructField(\"price\", IntegerType(), True),\n",
    "    StructField(\"stock\", IntegerType(), True),\n",
    "    StructField(\"update_time\", DateType(), True)])\n",
    "\n",
    "itemDf = spark.read.csv(Path+\"3c_item.csv\",header=False,schema=itemSchema)\n",
    "\n",
    "itemDf.show(5)"
   ]
  },
  {
   "cell_type": "code",
   "execution_count": 30,
   "metadata": {
    "scrolled": true
   },
   "outputs": [
    {
     "data": {
      "text/plain": [
       "429202"
      ]
     },
     "execution_count": 30,
     "metadata": {},
     "output_type": "execute_result"
    }
   ],
   "source": [
    "itemDf.count()"
   ]
  },
  {
   "cell_type": "code",
   "execution_count": 31,
   "metadata": {},
   "outputs": [
    {
     "name": "stdout",
     "output_type": "stream",
     "text": [
      "+----------+---------+\n",
      "|product_id| category|\n",
      "+----------+---------+\n",
      "| 100229839|     行動電源|\n",
      "| 100394186|     耳機喇叭|\n",
      "| 100625798|iPhone保護殼|\n",
      "+----------+---------+\n",
      "only showing top 3 rows\n",
      "\n"
     ]
    }
   ],
   "source": [
    "productIdDf = productDf.select(\"product_id\", \"category\").distinct()\n",
    "productIdDf.show(3)"
   ]
  },
  {
   "cell_type": "code",
   "execution_count": 32,
   "metadata": {},
   "outputs": [
    {
     "name": "stdout",
     "output_type": "stream",
     "text": [
      "+-------+----------+----+-----+------+-----------+--------+\n",
      "|item_id|product_id|name|price| stock|update_time|category|\n",
      "+-------+----------+----+-----+------+-----------+--------+\n",
      "|      0| 100003669|  黑色|  450|944799| 2017-12-24|    行動電源|\n",
      "|      0| 100003669|  黑色|  450|944799| 2017-12-25|    行動電源|\n",
      "|      0| 100003669|  黑色|  450|944799| 2017-12-26|    行動電源|\n",
      "+-------+----------+----+-----+------+-----------+--------+\n",
      "only showing top 3 rows\n",
      "\n"
     ]
    }
   ],
   "source": [
    "itemJoinDf = itemDf.join(productIdDf, \\\n",
    "           itemDf.product_id == productIdDf.product_id, \"inner\").drop(productIdDf.product_id)\n",
    "itemJoinDf.show(3)"
   ]
  },
  {
   "cell_type": "code",
   "execution_count": 33,
   "metadata": {
    "scrolled": false
   },
   "outputs": [
    {
     "data": {
      "text/plain": [
       "[('100003669 黑色', (944799, datetime.date(2017, 12, 24), '行動電源')),\n",
       " ('100003669 黑色', (944799, datetime.date(2017, 12, 25), '行動電源')),\n",
       " ('100003669 黑色', (944799, datetime.date(2017, 12, 26), '行動電源'))]"
      ]
     },
     "execution_count": 33,
     "metadata": {},
     "output_type": "execute_result"
    }
   ],
   "source": [
    "ItemRDD = itemJoinDf.select(\"product_id\", \"name\", \"price\", \"stock\", \"update_time\", \"category\").filter(\"name is not NULL\").filter(\"price > 0\").filter(\"stock > 0\") \\\n",
    ".rdd.map(lambda x: (x[0]+\" \"+x[1], (x[3], x[4], x[5])))\n",
    "ItemRDD.take(3)"
   ]
  },
  {
   "cell_type": "code",
   "execution_count": 34,
   "metadata": {
    "scrolled": true
   },
   "outputs": [
    {
     "data": {
      "text/plain": [
       "291498"
      ]
     },
     "execution_count": 34,
     "metadata": {},
     "output_type": "execute_result"
    }
   ],
   "source": [
    "ItemRDD.count()"
   ]
  },
  {
   "cell_type": "code",
   "execution_count": 35,
   "metadata": {
    "scrolled": false
   },
   "outputs": [
    {
     "data": {
      "text/plain": [
       "[('100003669 黑色',\n",
       "  [(944799, datetime.date(2017, 12, 24), '行動電源'),\n",
       "   (944799, datetime.date(2017, 12, 25), '行動電源'),\n",
       "   (944799, datetime.date(2017, 12, 26), '行動電源'),\n",
       "   (944799, datetime.date(2017, 12, 27), '行動電源'),\n",
       "   (944799, datetime.date(2017, 12, 28), '行動電源'),\n",
       "   (944799, datetime.date(2017, 12, 29), '行動電源'),\n",
       "   (944799, datetime.date(2017, 12, 30), '行動電源'),\n",
       "   (944799, datetime.date(2017, 12, 31), '行動電源'),\n",
       "   (944799, datetime.date(2018, 1, 4), '行動電源'),\n",
       "   (944799, datetime.date(2018, 1, 5), '行動電源')]),\n",
       " ('100006241 黑',\n",
       "  [(1, datetime.date(2017, 12, 23), '耳機喇叭'),\n",
       "   (1, datetime.date(2017, 12, 24), '耳機喇叭'),\n",
       "   (1, datetime.date(2017, 12, 25), '耳機喇叭'),\n",
       "   (1, datetime.date(2017, 12, 26), '耳機喇叭'),\n",
       "   (1, datetime.date(2017, 12, 27), '耳機喇叭'),\n",
       "   (1, datetime.date(2017, 12, 28), '耳機喇叭'),\n",
       "   (1, datetime.date(2017, 12, 29), '耳機喇叭'),\n",
       "   (1, datetime.date(2017, 12, 30), '耳機喇叭'),\n",
       "   (1, datetime.date(2017, 12, 31), '耳機喇叭'),\n",
       "   (1, datetime.date(2018, 1, 4), '耳機喇叭'),\n",
       "   (1, datetime.date(2018, 1, 5), '耳機喇叭')]),\n",
       " ('100008433 泰迪熊',\n",
       "  [(990, datetime.date(2017, 12, 24), '手機周邊配件'),\n",
       "   (990, datetime.date(2017, 12, 25), '手機周邊配件'),\n",
       "   (990, datetime.date(2017, 12, 26), '手機周邊配件'),\n",
       "   (990, datetime.date(2017, 12, 27), '手機周邊配件'),\n",
       "   (990, datetime.date(2017, 12, 28), '手機周邊配件'),\n",
       "   (990, datetime.date(2017, 12, 29), '手機周邊配件'),\n",
       "   (990, datetime.date(2017, 12, 30), '手機周邊配件'),\n",
       "   (990, datetime.date(2017, 12, 31), '手機周邊配件'),\n",
       "   (990, datetime.date(2018, 1, 4), '手機周邊配件'),\n",
       "   (990, datetime.date(2018, 1, 5), '手機周邊配件')])]"
      ]
     },
     "execution_count": 35,
     "metadata": {},
     "output_type": "execute_result"
    }
   ],
   "source": [
    "ItemRDD = ItemRDD.groupByKey().map(lambda x: (x[0], list(x[1])))\n",
    "ItemRDD.take(3)"
   ]
  },
  {
   "cell_type": "code",
   "execution_count": 36,
   "metadata": {},
   "outputs": [],
   "source": [
    "def countSaleDate(x):\n",
    "    datalen = len(x[1])\n",
    "    startSale = x[1][0][0]\n",
    "    startDate = x[1][0][1]\n",
    "    endSale = x[1][datalen-1][0]\n",
    "    endDate = x[1][datalen-1][1]\n",
    "    \n",
    "    dateDelta = (endDate - startDate).days\n",
    "    #saleDelta = startSale - endSale\n",
    "    saleDelta = 0\n",
    "    for loc in range(0, datalen-1):\n",
    "        if x[1][loc][0] > x[1][loc+1][0]:\n",
    "            saleDelta += (x[1][loc][0] - x[1][loc+1][0])\n",
    "    \n",
    "    \n",
    "    if datalen == 1:\n",
    "        res = 0\n",
    "    else:\n",
    "        try:\n",
    "            res = saleDelta / dateDelta\n",
    "        except ZeroDivisionError:\n",
    "            return (x[0], saleDelta, dateDelta, x[1][0][2], \"ZeroDivisionError\", datalen)\n",
    "    \n",
    "    \n",
    "    #return (x[0], datalen)\n",
    "    return (x[0], saleDelta, dateDelta, x[1][0][2], res, datalen)"
   ]
  },
  {
   "cell_type": "code",
   "execution_count": 37,
   "metadata": {},
   "outputs": [
    {
     "data": {
      "text/plain": [
       "120673"
      ]
     },
     "execution_count": 37,
     "metadata": {},
     "output_type": "execute_result"
    }
   ],
   "source": [
    "ItemDisRDD = ItemRDD.map(lambda x: countSaleDate(x))\n",
    "ItemDisRDD.count()"
   ]
  },
  {
   "cell_type": "code",
   "execution_count": 38,
   "metadata": {},
   "outputs": [
    {
     "data": {
      "text/plain": [
       "[('106823900 i6i6s', 0, 0, 'iPhone保護殼', 'ZeroDivisionError', 2),\n",
       " ('106825241 i6i6s', 0, 0, 'iPhone保護殼', 'ZeroDivisionError', 2),\n",
       " ('109640614 1雪地迷彩藍iPhone7', 0, 0, 'iPhone保護殼', 'ZeroDivisionError', 2)]"
      ]
     },
     "execution_count": 38,
     "metadata": {},
     "output_type": "execute_result"
    }
   ],
   "source": [
    "ItemDisRDD.filter(lambda x: x[4]==\"ZeroDivisionError\").take(3)"
   ]
  },
  {
   "cell_type": "code",
   "execution_count": 39,
   "metadata": {
    "scrolled": true
   },
   "outputs": [
    {
     "data": {
      "text/plain": [
       "1908"
      ]
     },
     "execution_count": 39,
     "metadata": {},
     "output_type": "execute_result"
    }
   ],
   "source": [
    "ItemDisRDD.filter(lambda x: x[4]!= \"ZeroDivisionError\").filter(lambda x: x[4]>0.0).count()"
   ]
  },
  {
   "cell_type": "code",
   "execution_count": 40,
   "metadata": {
    "scrolled": false
   },
   "outputs": [
    {
     "data": {
      "text/plain": [
       "[('100047069 時代鎏金', 1, 11, 'Android保護殼', 0.09090909090909091, 9),\n",
       " ('100053964 黑色', 7, 11, 'Android保護殼', 0.6363636363636364, 9),\n",
       " ('100082525 霧面i647吋內縮滿版白', 1, 5, 'iPhone保護貼', 0.2, 6),\n",
       " ('100127428 M7', 2, 7, 'Android保護貼', 0.2857142857142857, 8),\n",
       " ('100236654 iPhoneX前貼黑框滿版', 1, 6, 'iPhone保護貼', 0.16666666666666666, 7)]"
      ]
     },
     "execution_count": 40,
     "metadata": {},
     "output_type": "execute_result"
    }
   ],
   "source": [
    "ItemDisRDD.filter(lambda x: x[4]!= \"ZeroDivisionError\").filter(lambda x: x[4]>0.0).take(5)"
   ]
  },
  {
   "cell_type": "code",
   "execution_count": 41,
   "metadata": {},
   "outputs": [
    {
     "data": {
      "text/plain": [
       "[('行動電源', (0, 12)), ('耳機喇叭', (0, 13)), ('手機周邊配件', (0, 12))]"
      ]
     },
     "execution_count": 41,
     "metadata": {},
     "output_type": "execute_result"
    }
   ],
   "source": [
    "frequencyKeyRDD = ItemDisRDD.map(lambda x: (x[3], (x[1], x[2])))\n",
    "frequencyKeyRDD.take(3)"
   ]
  },
  {
   "cell_type": "code",
   "execution_count": 42,
   "metadata": {
    "scrolled": false
   },
   "outputs": [
    {
     "data": {
      "text/plain": [
       "120673"
      ]
     },
     "execution_count": 42,
     "metadata": {},
     "output_type": "execute_result"
    }
   ],
   "source": [
    "frequencyKeyRDD.count()"
   ]
  },
  {
   "cell_type": "code",
   "execution_count": 43,
   "metadata": {},
   "outputs": [
    {
     "data": {
      "text/plain": [
       "[('iPhone充電傳輸', (23, 8)), ('iPhone充電傳輸', (22, 4)), ('Android保護殼', (998, 10))]"
      ]
     },
     "execution_count": 43,
     "metadata": {},
     "output_type": "execute_result"
    }
   ],
   "source": [
    "frequencyKeyRDD.filter(lambda x: x[1][0]>20).take(3)"
   ]
  },
  {
   "cell_type": "code",
   "execution_count": 44,
   "metadata": {},
   "outputs": [],
   "source": [
    "def countSaleAndMaxDay(data1, data2):\n",
    "    \n",
    "    maxday = max(data1[1], data2[1])\n",
    "    \n",
    "    sales = data1[0]+data2[0]\n",
    "    \n",
    "    return (sales,maxday)"
   ]
  },
  {
   "cell_type": "code",
   "execution_count": 45,
   "metadata": {},
   "outputs": [],
   "source": [
    "def countFrequency(data):\n",
    "    sale = data[1][0]\n",
    "    days = data[1][1]\n",
    "    \n",
    "    if days == 0:\n",
    "        return (data[0], 0)\n",
    "    else:\n",
    "        return (data[0], data[1][0]/data[1][1]) "
   ]
  },
  {
   "cell_type": "code",
   "execution_count": 46,
   "metadata": {},
   "outputs": [
    {
     "data": {
      "text/plain": [
       "[('手機周邊配件', (627, 12)),\n",
       " ('Android保護殼', (1471, 13)),\n",
       " ('iPhone保護貼', (1400189, 13)),\n",
       " ('平板電腦', (31, 12)),\n",
       " ('Apple空機', (11, 12)),\n",
       " ('電話、儲值卡', (63, 13)),\n",
       " ('手拿包', (0, 2)),\n",
       " ('行動電源', (326, 13)),\n",
       " ('耳機喇叭', (566, 13)),\n",
       " ('Android保護貼', (1176, 12)),\n",
       " ('iPhone保護殼', (78078, 13)),\n",
       " ('iPhone充電傳輸', (2302, 13)),\n",
       " ('其他廠牌手機', (2, 11)),\n",
       " ('其他', (659, 11)),\n",
       " ('Android空機', (21, 12)),\n",
       " ('Android充電傳輸', (513, 12)),\n",
       " ('泳衣、比基尼', (0, 8)),\n",
       " ('居家裝飾', (0, 0))]"
      ]
     },
     "execution_count": 46,
     "metadata": {},
     "output_type": "execute_result"
    }
   ],
   "source": [
    "frequencyKeyRDD.reduceByKey(lambda x,y: countSaleAndMaxDay(x, y)).collect()"
   ]
  },
  {
   "cell_type": "code",
   "execution_count": 47,
   "metadata": {},
   "outputs": [],
   "source": [
    "saleFrequencyResRDD = frequencyKeyRDD.reduceByKey(lambda x,y: countSaleAndMaxDay(x, y))\\\n",
    "    .map(lambda x: countFrequency(x))"
   ]
  },
  {
   "cell_type": "code",
   "execution_count": 48,
   "metadata": {},
   "outputs": [
    {
     "data": {
      "text/plain": [
       "18"
      ]
     },
     "execution_count": 48,
     "metadata": {},
     "output_type": "execute_result"
    }
   ],
   "source": [
    "saleFrequencyResRDD.count()"
   ]
  },
  {
   "cell_type": "code",
   "execution_count": 49,
   "metadata": {},
   "outputs": [
    {
     "data": {
      "text/plain": [
       "[('手機周邊配件', 52.25),\n",
       " ('Android保護殼', 113.15384615384616),\n",
       " ('iPhone保護貼', 107706.84615384616),\n",
       " ('平板電腦', 2.5833333333333335),\n",
       " ('Apple空機', 0.9166666666666666),\n",
       " ('電話、儲值卡', 4.846153846153846),\n",
       " ('手拿包', 0.0),\n",
       " ('行動電源', 25.076923076923077),\n",
       " ('耳機喇叭', 43.53846153846154),\n",
       " ('Android保護貼', 98.0),\n",
       " ('iPhone保護殼', 6006.0),\n",
       " ('iPhone充電傳輸', 177.07692307692307),\n",
       " ('其他廠牌手機', 0.18181818181818182),\n",
       " ('其他', 59.90909090909091),\n",
       " ('Android空機', 1.75),\n",
       " ('Android充電傳輸', 42.75),\n",
       " ('泳衣、比基尼', 0.0),\n",
       " ('居家裝飾', 0)]"
      ]
     },
     "execution_count": 49,
     "metadata": {},
     "output_type": "execute_result"
    }
   ],
   "source": [
    "saleFrequencyResRDD.collect()"
   ]
  },
  {
   "cell_type": "code",
   "execution_count": 50,
   "metadata": {},
   "outputs": [],
   "source": [
    "def changeDay(data):\n",
    "    frequency = data[1]\n",
    "    \n",
    "    if frequency == 0:\n",
    "        days = 0\n",
    "        res = 0\n",
    "    elif 1/frequency < 1:\n",
    "        days = 1\n",
    "        res = int(frequency)\n",
    "    else:\n",
    "        days = math.ceil(1/frequency)\n",
    "        res = 1\n",
    "    \n",
    "    return (data[0], days, res)"
   ]
  },
  {
   "cell_type": "code",
   "execution_count": 51,
   "metadata": {},
   "outputs": [
    {
     "data": {
      "text/plain": [
       "[('手機周邊配件', 1, 52), ('Android保護殼', 1, 113), ('iPhone保護貼', 1, 107706)]"
      ]
     },
     "execution_count": 51,
     "metadata": {},
     "output_type": "execute_result"
    }
   ],
   "source": [
    "saleDayRDD = saleFrequencyResRDD.map(lambda x: changeDay(x))\n",
    "saleDayRDD.take(3)"
   ]
  },
  {
   "cell_type": "code",
   "execution_count": 52,
   "metadata": {},
   "outputs": [
    {
     "data": {
      "text/plain": [
       "[('手機周邊配件', 1, 52),\n",
       " ('Android保護殼', 1, 113),\n",
       " ('iPhone保護貼', 1, 107706),\n",
       " ('平板電腦', 1, 2),\n",
       " ('Apple空機', 2, 1),\n",
       " ('電話、儲值卡', 1, 4),\n",
       " ('手拿包', 0, 0),\n",
       " ('行動電源', 1, 25),\n",
       " ('耳機喇叭', 1, 43),\n",
       " ('Android保護貼', 1, 98),\n",
       " ('iPhone保護殼', 1, 6006),\n",
       " ('iPhone充電傳輸', 1, 177),\n",
       " ('其他廠牌手機', 6, 1),\n",
       " ('其他', 1, 59),\n",
       " ('Android空機', 1, 1),\n",
       " ('Android充電傳輸', 1, 42),\n",
       " ('泳衣、比基尼', 0, 0),\n",
       " ('居家裝飾', 0, 0)]"
      ]
     },
     "execution_count": 52,
     "metadata": {},
     "output_type": "execute_result"
    }
   ],
   "source": [
    "saleDayRDD.collect()"
   ]
  },
  {
   "cell_type": "code",
   "execution_count": 53,
   "metadata": {},
   "outputs": [
    {
     "data": {
      "text/plain": [
       "18"
      ]
     },
     "execution_count": 53,
     "metadata": {},
     "output_type": "execute_result"
    }
   ],
   "source": [
    "saleDayDf = spark.createDataFrame(saleDayRDD, [\"category\", \"days\", \"sales\"])\n",
    "saleDayDf.count()"
   ]
  },
  {
   "cell_type": "code",
   "execution_count": 54,
   "metadata": {},
   "outputs": [
    {
     "data": {
      "text/html": [
       "<div>\n",
       "<table border=\"1\" class=\"dataframe\">\n",
       "  <thead>\n",
       "    <tr style=\"text-align: right;\">\n",
       "      <th></th>\n",
       "      <th>category</th>\n",
       "      <th>days</th>\n",
       "      <th>sales</th>\n",
       "    </tr>\n",
       "    <tr>\n",
       "      <th>id</th>\n",
       "      <th></th>\n",
       "      <th></th>\n",
       "      <th></th>\n",
       "    </tr>\n",
       "  </thead>\n",
       "  <tbody>\n",
       "    <tr>\n",
       "      <th>1</th>\n",
       "      <td>手機周邊配件</td>\n",
       "      <td>1</td>\n",
       "      <td>52</td>\n",
       "    </tr>\n",
       "    <tr>\n",
       "      <th>2</th>\n",
       "      <td>Android保護殼</td>\n",
       "      <td>1</td>\n",
       "      <td>113</td>\n",
       "    </tr>\n",
       "    <tr>\n",
       "      <th>3</th>\n",
       "      <td>iPhone保護貼</td>\n",
       "      <td>1</td>\n",
       "      <td>107706</td>\n",
       "    </tr>\n",
       "    <tr>\n",
       "      <th>4</th>\n",
       "      <td>平板電腦</td>\n",
       "      <td>1</td>\n",
       "      <td>2</td>\n",
       "    </tr>\n",
       "    <tr>\n",
       "      <th>5</th>\n",
       "      <td>Apple空機</td>\n",
       "      <td>2</td>\n",
       "      <td>1</td>\n",
       "    </tr>\n",
       "    <tr>\n",
       "      <th>6</th>\n",
       "      <td>電話、儲值卡</td>\n",
       "      <td>1</td>\n",
       "      <td>4</td>\n",
       "    </tr>\n",
       "    <tr>\n",
       "      <th>7</th>\n",
       "      <td>手拿包</td>\n",
       "      <td>0</td>\n",
       "      <td>0</td>\n",
       "    </tr>\n",
       "    <tr>\n",
       "      <th>8</th>\n",
       "      <td>行動電源</td>\n",
       "      <td>1</td>\n",
       "      <td>25</td>\n",
       "    </tr>\n",
       "    <tr>\n",
       "      <th>9</th>\n",
       "      <td>耳機喇叭</td>\n",
       "      <td>1</td>\n",
       "      <td>43</td>\n",
       "    </tr>\n",
       "    <tr>\n",
       "      <th>10</th>\n",
       "      <td>Android保護貼</td>\n",
       "      <td>1</td>\n",
       "      <td>98</td>\n",
       "    </tr>\n",
       "    <tr>\n",
       "      <th>11</th>\n",
       "      <td>iPhone保護殼</td>\n",
       "      <td>1</td>\n",
       "      <td>6006</td>\n",
       "    </tr>\n",
       "    <tr>\n",
       "      <th>12</th>\n",
       "      <td>iPhone充電傳輸</td>\n",
       "      <td>1</td>\n",
       "      <td>177</td>\n",
       "    </tr>\n",
       "    <tr>\n",
       "      <th>13</th>\n",
       "      <td>其他廠牌手機</td>\n",
       "      <td>6</td>\n",
       "      <td>1</td>\n",
       "    </tr>\n",
       "    <tr>\n",
       "      <th>14</th>\n",
       "      <td>其他</td>\n",
       "      <td>1</td>\n",
       "      <td>59</td>\n",
       "    </tr>\n",
       "    <tr>\n",
       "      <th>15</th>\n",
       "      <td>Android空機</td>\n",
       "      <td>1</td>\n",
       "      <td>1</td>\n",
       "    </tr>\n",
       "    <tr>\n",
       "      <th>16</th>\n",
       "      <td>Android充電傳輸</td>\n",
       "      <td>1</td>\n",
       "      <td>42</td>\n",
       "    </tr>\n",
       "    <tr>\n",
       "      <th>17</th>\n",
       "      <td>泳衣、比基尼</td>\n",
       "      <td>0</td>\n",
       "      <td>0</td>\n",
       "    </tr>\n",
       "    <tr>\n",
       "      <th>18</th>\n",
       "      <td>居家裝飾</td>\n",
       "      <td>0</td>\n",
       "      <td>0</td>\n",
       "    </tr>\n",
       "  </tbody>\n",
       "</table>\n",
       "</div>"
      ],
      "text/plain": [
       "       category  days   sales\n",
       "id                           \n",
       "1        手機周邊配件     1      52\n",
       "2    Android保護殼     1     113\n",
       "3     iPhone保護貼     1  107706\n",
       "4          平板電腦     1       2\n",
       "5       Apple空機     2       1\n",
       "6        電話、儲值卡     1       4\n",
       "7           手拿包     0       0\n",
       "8          行動電源     1      25\n",
       "9          耳機喇叭     1      43\n",
       "10   Android保護貼     1      98\n",
       "11    iPhone保護殼     1    6006\n",
       "12   iPhone充電傳輸     1     177\n",
       "13       其他廠牌手機     6       1\n",
       "14           其他     1      59\n",
       "15    Android空機     1       1\n",
       "16  Android充電傳輸     1      42\n",
       "17       泳衣、比基尼     0       0\n",
       "18         居家裝飾     0       0"
      ]
     },
     "execution_count": 54,
     "metadata": {},
     "output_type": "execute_result"
    }
   ],
   "source": [
    "saleDayDf_pddf = saleDayDf.toPandas()\n",
    "saleDayDf_pddf.index+=1\n",
    "saleDayDf_pddf.index.name=\"id\"\n",
    "saleDayDf_pddf"
   ]
  },
  {
   "cell_type": "code",
   "execution_count": 56,
   "metadata": {},
   "outputs": [],
   "source": [
    "saleDayDf_pddf.to_csv('saleDay.csv', encoding='utf-8')"
   ]
  }
 ],
 "metadata": {
  "kernelspec": {
   "display_name": "Python 3",
   "language": "python",
   "name": "python3"
  },
  "language_info": {
   "codemirror_mode": {
    "name": "ipython",
    "version": 3
   },
   "file_extension": ".py",
   "mimetype": "text/x-python",
   "name": "python",
   "nbconvert_exporter": "python",
   "pygments_lexer": "ipython3",
   "version": "3.6.3"
  }
 },
 "nbformat": 4,
 "nbformat_minor": 2
}
